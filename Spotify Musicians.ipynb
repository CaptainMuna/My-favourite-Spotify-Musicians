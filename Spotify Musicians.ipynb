{
 "cells": [
  {
   "cell_type": "code",
   "execution_count": 1,
   "id": "197f6997",
   "metadata": {},
   "outputs": [],
   "source": [
    "import os\n",
    "import sys\n",
    "import spotipy\n",
    "import pandas as pd\n",
    "from spotipy.oauth2 import SpotifyClientCredentials\n",
    "from spotipy.oauth2 import SpotifyOAuth\n",
    "import pprint"
   ]
  },
  {
   "cell_type": "code",
   "execution_count": 2,
   "id": "017f8bd6",
   "metadata": {},
   "outputs": [],
   "source": [
    "SPOTIPY_CLIENT_ID = 'd7e917f50adf456d9ac5c0342ca84fa0'\n",
    "SPOTIPY_CLIENT_SECRET = '6b8d07dde47641adb46585a16d4fd024'\n",
    "SPOTIPY_REDIRECT_URI = 'http://localhost:8888/callback'\n",
    "scope = \"user-library-read\""
   ]
  },
  {
   "cell_type": "code",
   "execution_count": 3,
   "id": "486dae98",
   "metadata": {},
   "outputs": [],
   "source": [
    "#Authentication - without user\n",
    "client_credentials_manager = SpotifyClientCredentials(client_id=SPOTIPY_CLIENT_ID,\n",
    "                                                      client_secret=SPOTIPY_CLIENT_SECRET)\n",
    "sp = spotipy.Spotify(client_credentials_manager = client_credentials_manager)"
   ]
  },
  {
   "cell_type": "code",
   "execution_count": 4,
   "id": "e413983b",
   "metadata": {
    "scrolled": true
   },
   "outputs": [
    {
     "data": {
      "text/plain": [
       "[{'external_urls': {'spotify': 'https://open.spotify.com/artist/3ZpEKRjHaHANcpk10u6Ntq'},\n",
       "  'href': 'https://api.spotify.com/v1/artists/3ZpEKRjHaHANcpk10u6Ntq',\n",
       "  'id': '3ZpEKRjHaHANcpk10u6Ntq',\n",
       "  'name': 'Ayra Starr',\n",
       "  'type': 'artist',\n",
       "  'uri': 'spotify:artist:3ZpEKRjHaHANcpk10u6Ntq'}]"
      ]
     },
     "execution_count": 4,
     "metadata": {},
     "output_type": "execute_result"
    }
   ],
   "source": [
    "name = 'Ayra Starr'\n",
    "result = sp.search(name) #search query\n",
    "result['tracks']['items'][0]['artists']"
   ]
  },
  {
   "cell_type": "code",
   "execution_count": 5,
   "id": "f2bfdc7e",
   "metadata": {},
   "outputs": [
    {
     "data": {
      "text/plain": [
       "'spotify:artist:3ZpEKRjHaHANcpk10u6Ntq'"
      ]
     },
     "execution_count": 5,
     "metadata": {},
     "output_type": "execute_result"
    }
   ],
   "source": [
    "# Extract Artist uri\n",
    "artist_uri =  result['tracks']['items'][0]['artists'][0]['uri']\n",
    "artist_uri"
   ]
  },
  {
   "cell_type": "code",
   "execution_count": 6,
   "id": "3aa0497d",
   "metadata": {},
   "outputs": [
    {
     "data": {
      "text/plain": [
       "(['19 & Dangerous (Deluxe)', '19 & Dangerous'],\n",
       " ['spotify:album:16ppCNm1KGCgUS0g3iKqh8',\n",
       "  'spotify:album:16ppCNm1KGCgUS0g3iKqh8',\n",
       "  'spotify:album:0AjdvP8p42lwSzmN0PpwJv',\n",
       "  'spotify:album:0AjdvP8p42lwSzmN0PpwJv'])"
      ]
     },
     "execution_count": 6,
     "metadata": {},
     "output_type": "execute_result"
    }
   ],
   "source": [
    "sp_albums = sp.artist_albums(artist_uri, album_type='album')\n",
    "    # Storing album names and URI's\n",
    "album_names = []\n",
    "album_uris = []\n",
    "for i in range(len(sp_albums['items'])):\n",
    "    album_names.append(sp_albums['items'][i]['name'])\n",
    "    album_uris.append(sp_albums['items'][i]['uri'])\n",
    "    album_uris.append(sp_albums['items'][i]['uri'])\n",
    "\n",
    "album_names, album_uris    "
   ]
  },
  {
   "cell_type": "code",
   "execution_count": 7,
   "id": "95493c9c",
   "metadata": {},
   "outputs": [
    {
     "data": {
      "text/plain": [
       "(['spotify:album:16ppCNm1KGCgUS0g3iKqh8',\n",
       "  'spotify:album:16ppCNm1KGCgUS0g3iKqh8',\n",
       "  'spotify:album:0AjdvP8p42lwSzmN0PpwJv',\n",
       "  'spotify:album:0AjdvP8p42lwSzmN0PpwJv'],\n",
       " ['19 & Dangerous (Deluxe)', '19 & Dangerous'])"
      ]
     },
     "execution_count": 7,
     "metadata": {},
     "output_type": "execute_result"
    }
   ],
   "source": [
    "album_uris,album_names"
   ]
  },
  {
   "cell_type": "code",
   "execution_count": 8,
   "id": "05f298d3",
   "metadata": {},
   "outputs": [],
   "source": [
    "def albumSongs(uri):\n",
    "    album = uri #assign album uri to a_name\n",
    "    spotify_albums[album] = {} #Creates dictionary for that specific album\n",
    "    #Create keys-values of empty lists inside nested dictionary for album\n",
    "    spotify_albums[album]['album'] = [] #create empty list\n",
    "    spotify_albums[album]['track_number'] = []\n",
    "    spotify_albums[album]['id'] = []\n",
    "    spotify_albums[album]['name'] = []\n",
    "    spotify_albums[album]['uri'] = []\n",
    "    \n",
    "    tracks = sp.album_tracks(album) #pull data on album tracks\n",
    "    for n in range(len(tracks['items'])): #for each song track\n",
    "        spotify_albums[album]['album'].append(album_names[album_count]) #append album name tracked via album_count\n",
    "        spotify_albums[album]['track_number'].append(tracks['items'][n]['track_number'])\n",
    "        spotify_albums[album]['id'].append(tracks['items'][n]['id'])\n",
    "        spotify_albums[album]['name'].append(tracks['items'][n]['name'])\n",
    "        spotify_albums[album]['uri'].append(tracks['items'][n]['uri'])"
   ]
  },
  {
   "cell_type": "code",
   "execution_count": 9,
   "id": "b2c6ed30",
   "metadata": {},
   "outputs": [
    {
     "name": "stdout",
     "output_type": "stream",
     "text": [
      "Album 19 & Dangerous (Deluxe) songs has been added to spotify_albums dictionary\n",
      "Album 19 & Dangerous songs has been added to spotify_albums dictionary\n"
     ]
    },
    {
     "ename": "IndexError",
     "evalue": "list index out of range",
     "output_type": "error",
     "traceback": [
      "\u001b[0;31m---------------------------------------------------------------------------\u001b[0m",
      "\u001b[0;31mIndexError\u001b[0m                                Traceback (most recent call last)",
      "Cell \u001b[0;32mIn [9], line 4\u001b[0m\n\u001b[1;32m      2\u001b[0m album_count \u001b[38;5;241m=\u001b[39m \u001b[38;5;241m0\u001b[39m\n\u001b[1;32m      3\u001b[0m \u001b[38;5;28;01mfor\u001b[39;00m i \u001b[38;5;129;01min\u001b[39;00m album_uris: \u001b[38;5;66;03m#each album\u001b[39;00m\n\u001b[0;32m----> 4\u001b[0m     \u001b[43malbumSongs\u001b[49m\u001b[43m(\u001b[49m\u001b[43mi\u001b[49m\u001b[43m)\u001b[49m\n\u001b[1;32m      5\u001b[0m     \u001b[38;5;28mprint\u001b[39m(\u001b[38;5;124m\"\u001b[39m\u001b[38;5;124mAlbum \u001b[39m\u001b[38;5;124m\"\u001b[39m \u001b[38;5;241m+\u001b[39m \u001b[38;5;28mstr\u001b[39m(album_names[album_count]) \u001b[38;5;241m+\u001b[39m \u001b[38;5;124m\"\u001b[39m\u001b[38;5;124m songs has been added to spotify_albums dictionary\u001b[39m\u001b[38;5;124m\"\u001b[39m)\n\u001b[1;32m      6\u001b[0m     album_count\u001b[38;5;241m+\u001b[39m\u001b[38;5;241m=\u001b[39m\u001b[38;5;241m1\u001b[39m\n",
      "Cell \u001b[0;32mIn [8], line 13\u001b[0m, in \u001b[0;36malbumSongs\u001b[0;34m(uri)\u001b[0m\n\u001b[1;32m     11\u001b[0m tracks \u001b[38;5;241m=\u001b[39m sp\u001b[38;5;241m.\u001b[39malbum_tracks(album) \u001b[38;5;66;03m#pull data on album tracks\u001b[39;00m\n\u001b[1;32m     12\u001b[0m \u001b[38;5;28;01mfor\u001b[39;00m n \u001b[38;5;129;01min\u001b[39;00m \u001b[38;5;28mrange\u001b[39m(\u001b[38;5;28mlen\u001b[39m(tracks[\u001b[38;5;124m'\u001b[39m\u001b[38;5;124mitems\u001b[39m\u001b[38;5;124m'\u001b[39m])): \u001b[38;5;66;03m#for each song track\u001b[39;00m\n\u001b[0;32m---> 13\u001b[0m     spotify_albums[album][\u001b[38;5;124m'\u001b[39m\u001b[38;5;124malbum\u001b[39m\u001b[38;5;124m'\u001b[39m]\u001b[38;5;241m.\u001b[39mappend(\u001b[43malbum_names\u001b[49m\u001b[43m[\u001b[49m\u001b[43malbum_count\u001b[49m\u001b[43m]\u001b[49m) \u001b[38;5;66;03m#append album name tracked via album_count\u001b[39;00m\n\u001b[1;32m     14\u001b[0m     spotify_albums[album][\u001b[38;5;124m'\u001b[39m\u001b[38;5;124mtrack_number\u001b[39m\u001b[38;5;124m'\u001b[39m]\u001b[38;5;241m.\u001b[39mappend(tracks[\u001b[38;5;124m'\u001b[39m\u001b[38;5;124mitems\u001b[39m\u001b[38;5;124m'\u001b[39m][n][\u001b[38;5;124m'\u001b[39m\u001b[38;5;124mtrack_number\u001b[39m\u001b[38;5;124m'\u001b[39m])\n\u001b[1;32m     15\u001b[0m     spotify_albums[album][\u001b[38;5;124m'\u001b[39m\u001b[38;5;124mid\u001b[39m\u001b[38;5;124m'\u001b[39m]\u001b[38;5;241m.\u001b[39mappend(tracks[\u001b[38;5;124m'\u001b[39m\u001b[38;5;124mitems\u001b[39m\u001b[38;5;124m'\u001b[39m][n][\u001b[38;5;124m'\u001b[39m\u001b[38;5;124mid\u001b[39m\u001b[38;5;124m'\u001b[39m])\n",
      "\u001b[0;31mIndexError\u001b[0m: list index out of range"
     ]
    }
   ],
   "source": [
    "spotify_albums = {}\n",
    "album_count = 0\n",
    "for i in album_uris: #each album\n",
    "    albumSongs(i)\n",
    "    print(\"Album \" + str(album_names[album_count]) + \" songs has been added to spotify_albums dictionary\")\n",
    "    album_count+=1 #Updates album count once all tracks have been added"
   ]
  },
  {
   "cell_type": "code",
   "execution_count": null,
   "id": "6774856d",
   "metadata": {},
   "outputs": [],
   "source": [
    "def audio_features(album):\n",
    "    #Add new key-values to store audio features\n",
    "    spotify_albums[album]['acousticness'] = []\n",
    "    spotify_albums[album]['danceability'] = []\n",
    "    spotify_albums[album]['energy'] = []\n",
    "    spotify_albums[album]['instrumentalness'] = []\n",
    "    spotify_albums[album]['liveness'] = []\n",
    "    spotify_albums[album]['loudness'] = []\n",
    "    spotify_albums[album]['speechiness'] = []\n",
    "    spotify_albums[album]['tempo'] = []\n",
    "    spotify_albums[album]['valence'] = []\n",
    "    spotify_albums[album]['popularity'] = []\n",
    "    #create a track counter\n",
    "    track_count = 0\n",
    "    for track in spotify_albums[album]['uri']:\n",
    "        #pull audio features per track\n",
    "        features = sp.audio_features(track)\n",
    "        \n",
    "        #Append to relevant key-value\n",
    "        spotify_albums[album]['acousticness'].append(features[0]['acousticness'])\n",
    "        spotify_albums[album]['danceability'].append(features[0]['danceability'])\n",
    "        spotify_albums[album]['energy'].append(features[0]['energy'])\n",
    "        spotify_albums[album]['instrumentalness'].append(features[0]['instrumentalness'])\n",
    "        spotify_albums[album]['liveness'].append(features[0]['liveness'])\n",
    "        spotify_albums[album]['loudness'].append(features[0]['loudness'])\n",
    "        spotify_albums[album]['speechiness'].append(features[0]['speechiness'])\n",
    "        spotify_albums[album]['tempo'].append(features[0]['tempo'])\n",
    "        spotify_albums[album]['valence'].append(features[0]['valence'])\n",
    "        #popularity is stored elsewhere\n",
    "        pop = sp.track(track)\n",
    "        spotify_albums[album]['popularity'].append(pop['popularity'])\n",
    "        track_count+=1"
   ]
  },
  {
   "cell_type": "code",
   "execution_count": null,
   "id": "8ecb725c",
   "metadata": {},
   "outputs": [],
   "source": [
    "import time\n",
    "import numpy as np\n",
    "sleep_min = 2\n",
    "sleep_max = 5\n",
    "start_time = time.time()\n",
    "request_count = 0\n",
    "for i in spotify_albums:\n",
    "    audio_features(i)\n",
    "    request_count+=1\n",
    "    if request_count % 5 == 0:\n",
    "        print(str(request_count) + \" playlists completed\")\n",
    "        time.sleep(np.random.uniform(sleep_min, sleep_max))\n",
    "        print('Loop #: {}'.format(request_count))\n",
    "        print('Elapsed Time: {} seconds'.format(time.time() - start_time))\n"
   ]
  },
  {
   "cell_type": "code",
   "execution_count": null,
   "id": "52112e88",
   "metadata": {},
   "outputs": [],
   "source": [
    "dic_df = {}\n",
    "dic_df['album'] = []\n",
    "dic_df['track_number'] = []\n",
    "dic_df['id'] = []\n",
    "dic_df['name'] = []\n",
    "dic_df['uri'] = []\n",
    "dic_df['acousticness'] = []\n",
    "dic_df['danceability'] = []\n",
    "dic_df['energy'] = []\n",
    "dic_df['instrumentalness'] = []\n",
    "dic_df['liveness'] = []\n",
    "dic_df['loudness'] = []\n",
    "dic_df['speechiness'] = []\n",
    "dic_df['tempo'] = []\n",
    "dic_df['valence'] = []\n",
    "dic_df['popularity'] = []\n",
    "for album in spotify_albums: \n",
    "    for feature in spotify_albums[album]:\n",
    "        dic_df[feature].extend(spotify_albums[album][feature])\n",
    "        \n",
    "len(dic_df['album'])\n",
    "dic_df"
   ]
  },
  {
   "cell_type": "code",
   "execution_count": null,
   "id": "b5d2571e",
   "metadata": {},
   "outputs": [],
   "source": [
    "df = pd.DataFrame.from_dict(dic_df)"
   ]
  },
  {
   "cell_type": "code",
   "execution_count": null,
   "id": "1e59621e",
   "metadata": {},
   "outputs": [],
   "source": [
    "final_df = df.drop_duplicates('name').sort_index()\n",
    "final_df"
   ]
  },
  {
   "cell_type": "code",
   "execution_count": null,
   "id": "ff0484f2",
   "metadata": {},
   "outputs": [],
   "source": [
    "result = sp.search(\"Tems\")\n",
    "track = result['tracks']['items'][0]\n",
    "\n",
    "artist = sp.artist(track[\"artists\"][0][\"external_urls\"][\"spotify\"])\n",
    "print(\"artist genres:\", artist[\"genres\"])\n",
    "\n",
    "album = sp.album(track[\"album\"][\"external_urls\"][\"spotify\"])\n",
    "print(\"album genres:\", album[\"genres\"])\n",
    "print(\"album release-date:\", album[\"release_date\"])"
   ]
  },
  {
   "cell_type": "code",
   "execution_count": null,
   "id": "b08ccc0d",
   "metadata": {},
   "outputs": [],
   "source": []
  },
  {
   "cell_type": "code",
   "execution_count": null,
   "id": "c6d631db",
   "metadata": {},
   "outputs": [],
   "source": []
  }
 ],
 "metadata": {
  "kernelspec": {
   "display_name": "Python 3 (ipykernel)",
   "language": "python",
   "name": "python3"
  },
  "language_info": {
   "codemirror_mode": {
    "name": "ipython",
    "version": 3
   },
   "file_extension": ".py",
   "mimetype": "text/x-python",
   "name": "python",
   "nbconvert_exporter": "python",
   "pygments_lexer": "ipython3",
   "version": "3.10.7"
  }
 },
 "nbformat": 4,
 "nbformat_minor": 5
}
